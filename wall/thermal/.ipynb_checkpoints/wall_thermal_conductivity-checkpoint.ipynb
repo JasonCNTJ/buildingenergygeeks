{
 "metadata": {
  "name": "",
  "signature": "sha256:2bfb0d5cdd976ca9eb1a215bc7b529c8b8c3e518c01bfaeed04c6cafa340337e"
 },
 "nbformat": 3,
 "nbformat_minor": 0,
 "worksheets": []
}